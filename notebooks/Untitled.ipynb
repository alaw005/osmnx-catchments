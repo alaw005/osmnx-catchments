{
 "cells": [
  {
   "cell_type": "code",
   "execution_count": 41,
   "metadata": {},
   "outputs": [
    {
     "name": "stdout",
     "output_type": "stream",
     "text": [
      "Requirement already satisfied: osmnx>=1.1 in /opt/conda/lib/python3.7/site-packages (from -r ../requirements.txt (line 1)) (1.1.1)\n",
      "Requirement already satisfied: geopandas>=0.9 in /opt/conda/lib/python3.7/site-packages (from osmnx>=1.1->-r ../requirements.txt (line 1)) (0.9.0)\n",
      "Requirement already satisfied: pandas>=1.1 in /opt/conda/lib/python3.7/site-packages (from osmnx>=1.1->-r ../requirements.txt (line 1)) (1.2.4)\n",
      "Requirement already satisfied: pyproj>=2.6 in /opt/conda/lib/python3.7/site-packages (from osmnx>=1.1->-r ../requirements.txt (line 1)) (3.1.0)\n",
      "Requirement already satisfied: Shapely>=1.7 in /opt/conda/lib/python3.7/site-packages (from osmnx>=1.1->-r ../requirements.txt (line 1)) (1.7.1)\n",
      "Requirement already satisfied: Rtree>=0.9 in /opt/conda/lib/python3.7/site-packages (from osmnx>=1.1->-r ../requirements.txt (line 1)) (0.9.7)\n",
      "Requirement already satisfied: numpy>=1.19 in /opt/conda/lib/python3.7/site-packages (from osmnx>=1.1->-r ../requirements.txt (line 1)) (1.20.3)\n",
      "Requirement already satisfied: matplotlib>=3.3 in /opt/conda/lib/python3.7/site-packages (from osmnx>=1.1->-r ../requirements.txt (line 1)) (3.4.2)\n",
      "Requirement already satisfied: requests>=2.25 in /opt/conda/lib/python3.7/site-packages (from osmnx>=1.1->-r ../requirements.txt (line 1)) (2.25.1)\n",
      "Requirement already satisfied: networkx>=2.5 in /opt/conda/lib/python3.7/site-packages (from osmnx>=1.1->-r ../requirements.txt (line 1)) (2.5.1)\n",
      "Requirement already satisfied: fiona>=1.8 in /opt/conda/lib/python3.7/site-packages (from geopandas>=0.9->osmnx>=1.1->-r ../requirements.txt (line 1)) (1.8.20)\n",
      "Requirement already satisfied: python-dateutil>=2.7.3 in /opt/conda/lib/python3.7/site-packages (from pandas>=1.1->osmnx>=1.1->-r ../requirements.txt (line 1)) (2.8.1)\n",
      "Requirement already satisfied: pytz>=2017.3 in /opt/conda/lib/python3.7/site-packages (from pandas>=1.1->osmnx>=1.1->-r ../requirements.txt (line 1)) (2019.3)\n",
      "Requirement already satisfied: certifi in /opt/conda/lib/python3.7/site-packages (from pyproj>=2.6->osmnx>=1.1->-r ../requirements.txt (line 1)) (2020.4.5.1)\n",
      "Requirement already satisfied: pyparsing>=2.2.1 in /opt/conda/lib/python3.7/site-packages (from matplotlib>=3.3->osmnx>=1.1->-r ../requirements.txt (line 1)) (2.4.7)\n",
      "Requirement already satisfied: pillow>=6.2.0 in /opt/conda/lib/python3.7/site-packages (from matplotlib>=3.3->osmnx>=1.1->-r ../requirements.txt (line 1)) (7.1.1)\n",
      "Requirement already satisfied: kiwisolver>=1.0.1 in /opt/conda/lib/python3.7/site-packages (from matplotlib>=3.3->osmnx>=1.1->-r ../requirements.txt (line 1)) (1.2.0)\n",
      "Requirement already satisfied: cycler>=0.10 in /opt/conda/lib/python3.7/site-packages (from matplotlib>=3.3->osmnx>=1.1->-r ../requirements.txt (line 1)) (0.10.0)\n",
      "Requirement already satisfied: chardet<5,>=3.0.2 in /opt/conda/lib/python3.7/site-packages (from requests>=2.25->osmnx>=1.1->-r ../requirements.txt (line 1)) (3.0.4)\n",
      "Requirement already satisfied: urllib3<1.27,>=1.21.1 in /opt/conda/lib/python3.7/site-packages (from requests>=2.25->osmnx>=1.1->-r ../requirements.txt (line 1)) (1.25.9)\n",
      "Requirement already satisfied: idna<3,>=2.5 in /opt/conda/lib/python3.7/site-packages (from requests>=2.25->osmnx>=1.1->-r ../requirements.txt (line 1)) (2.9)\n",
      "Requirement already satisfied: decorator<5,>=4.3 in /opt/conda/lib/python3.7/site-packages (from networkx>=2.5->osmnx>=1.1->-r ../requirements.txt (line 1)) (4.4.2)\n",
      "Requirement already satisfied: setuptools in /opt/conda/lib/python3.7/site-packages (from fiona>=1.8->geopandas>=0.9->osmnx>=1.1->-r ../requirements.txt (line 1)) (46.1.3.post20200325)\n",
      "Requirement already satisfied: click-plugins>=1.0 in /opt/conda/lib/python3.7/site-packages (from fiona>=1.8->geopandas>=0.9->osmnx>=1.1->-r ../requirements.txt (line 1)) (1.1.1)\n",
      "Requirement already satisfied: munch in /opt/conda/lib/python3.7/site-packages (from fiona>=1.8->geopandas>=0.9->osmnx>=1.1->-r ../requirements.txt (line 1)) (2.5.0)\n",
      "Requirement already satisfied: attrs>=17 in /opt/conda/lib/python3.7/site-packages (from fiona>=1.8->geopandas>=0.9->osmnx>=1.1->-r ../requirements.txt (line 1)) (19.3.0)\n",
      "Requirement already satisfied: cligj>=0.5 in /opt/conda/lib/python3.7/site-packages (from fiona>=1.8->geopandas>=0.9->osmnx>=1.1->-r ../requirements.txt (line 1)) (0.7.2)\n",
      "Requirement already satisfied: six>=1.7 in /opt/conda/lib/python3.7/site-packages (from fiona>=1.8->geopandas>=0.9->osmnx>=1.1->-r ../requirements.txt (line 1)) (1.14.0)\n",
      "Requirement already satisfied: click>=4.0 in /opt/conda/lib/python3.7/site-packages (from fiona>=1.8->geopandas>=0.9->osmnx>=1.1->-r ../requirements.txt (line 1)) (7.1.1)\n"
     ]
    }
   ],
   "source": [
    "!pip install -r ../requirements.txt\n",
    "\n",
    "import sys\n",
    "sys.path.append('../src')\n",
    "\n",
    "import osmcatch as catch\n"
   ]
  },
  {
   "cell_type": "code",
   "execution_count": 23,
   "metadata": {},
   "outputs": [
    {
     "data": {
      "text/plain": [
       "<function osmcatch.walk.get_osm_walk_network(centre_point, dist=1000, snapshot_date='', to_crs=None)>"
      ]
     },
     "execution_count": 23,
     "metadata": {},
     "output_type": "execute_result"
    }
   ],
   "source": [
    "catch.get_osm_walk_network"
   ]
  },
  {
   "cell_type": "code",
   "execution_count": 38,
   "metadata": {},
   "outputs": [
    {
     "name": "stdout",
     "output_type": "stream",
     "text": [
      "Requirement already satisfied: osmnx>=1.1 in /opt/conda/lib/python3.7/site-packages (from -r ../requirements.txt (line 1)) (1.1.1)\n",
      "Requirement already satisfied: networkx>=2.5 in /opt/conda/lib/python3.7/site-packages (from osmnx>=1.1->-r ../requirements.txt (line 1)) (2.5.1)\n",
      "Requirement already satisfied: numpy>=1.19 in /opt/conda/lib/python3.7/site-packages (from osmnx>=1.1->-r ../requirements.txt (line 1)) (1.20.3)\n",
      "Requirement already satisfied: geopandas>=0.9 in /opt/conda/lib/python3.7/site-packages (from osmnx>=1.1->-r ../requirements.txt (line 1)) (0.9.0)\n",
      "Requirement already satisfied: matplotlib>=3.3 in /opt/conda/lib/python3.7/site-packages (from osmnx>=1.1->-r ../requirements.txt (line 1)) (3.4.2)\n",
      "Requirement already satisfied: requests>=2.25 in /opt/conda/lib/python3.7/site-packages (from osmnx>=1.1->-r ../requirements.txt (line 1)) (2.25.1)\n",
      "Requirement already satisfied: Rtree>=0.9 in /opt/conda/lib/python3.7/site-packages (from osmnx>=1.1->-r ../requirements.txt (line 1)) (0.9.7)\n",
      "Requirement already satisfied: Shapely>=1.7 in /opt/conda/lib/python3.7/site-packages (from osmnx>=1.1->-r ../requirements.txt (line 1)) (1.7.1)\n",
      "Requirement already satisfied: pyproj>=2.6 in /opt/conda/lib/python3.7/site-packages (from osmnx>=1.1->-r ../requirements.txt (line 1)) (3.1.0)\n",
      "Requirement already satisfied: pandas>=1.1 in /opt/conda/lib/python3.7/site-packages (from osmnx>=1.1->-r ../requirements.txt (line 1)) (1.2.4)\n",
      "Requirement already satisfied: decorator<5,>=4.3 in /opt/conda/lib/python3.7/site-packages (from networkx>=2.5->osmnx>=1.1->-r ../requirements.txt (line 1)) (4.4.2)\n",
      "Requirement already satisfied: fiona>=1.8 in /opt/conda/lib/python3.7/site-packages (from geopandas>=0.9->osmnx>=1.1->-r ../requirements.txt (line 1)) (1.8.20)\n",
      "Requirement already satisfied: cycler>=0.10 in /opt/conda/lib/python3.7/site-packages (from matplotlib>=3.3->osmnx>=1.1->-r ../requirements.txt (line 1)) (0.10.0)\n",
      "Requirement already satisfied: pillow>=6.2.0 in /opt/conda/lib/python3.7/site-packages (from matplotlib>=3.3->osmnx>=1.1->-r ../requirements.txt (line 1)) (7.1.1)\n",
      "Requirement already satisfied: pyparsing>=2.2.1 in /opt/conda/lib/python3.7/site-packages (from matplotlib>=3.3->osmnx>=1.1->-r ../requirements.txt (line 1)) (2.4.7)\n",
      "Requirement already satisfied: kiwisolver>=1.0.1 in /opt/conda/lib/python3.7/site-packages (from matplotlib>=3.3->osmnx>=1.1->-r ../requirements.txt (line 1)) (1.2.0)\n",
      "Requirement already satisfied: python-dateutil>=2.7 in /opt/conda/lib/python3.7/site-packages (from matplotlib>=3.3->osmnx>=1.1->-r ../requirements.txt (line 1)) (2.8.1)\n",
      "Requirement already satisfied: chardet<5,>=3.0.2 in /opt/conda/lib/python3.7/site-packages (from requests>=2.25->osmnx>=1.1->-r ../requirements.txt (line 1)) (3.0.4)\n",
      "Requirement already satisfied: urllib3<1.27,>=1.21.1 in /opt/conda/lib/python3.7/site-packages (from requests>=2.25->osmnx>=1.1->-r ../requirements.txt (line 1)) (1.25.9)\n",
      "Requirement already satisfied: certifi>=2017.4.17 in /opt/conda/lib/python3.7/site-packages (from requests>=2.25->osmnx>=1.1->-r ../requirements.txt (line 1)) (2020.4.5.1)\n",
      "Requirement already satisfied: idna<3,>=2.5 in /opt/conda/lib/python3.7/site-packages (from requests>=2.25->osmnx>=1.1->-r ../requirements.txt (line 1)) (2.9)\n",
      "Requirement already satisfied: pytz>=2017.3 in /opt/conda/lib/python3.7/site-packages (from pandas>=1.1->osmnx>=1.1->-r ../requirements.txt (line 1)) (2019.3)\n",
      "Requirement already satisfied: munch in /opt/conda/lib/python3.7/site-packages (from fiona>=1.8->geopandas>=0.9->osmnx>=1.1->-r ../requirements.txt (line 1)) (2.5.0)\n",
      "Requirement already satisfied: cligj>=0.5 in /opt/conda/lib/python3.7/site-packages (from fiona>=1.8->geopandas>=0.9->osmnx>=1.1->-r ../requirements.txt (line 1)) (0.7.2)\n",
      "Requirement already satisfied: setuptools in /opt/conda/lib/python3.7/site-packages (from fiona>=1.8->geopandas>=0.9->osmnx>=1.1->-r ../requirements.txt (line 1)) (46.1.3.post20200325)\n",
      "Requirement already satisfied: click>=4.0 in /opt/conda/lib/python3.7/site-packages (from fiona>=1.8->geopandas>=0.9->osmnx>=1.1->-r ../requirements.txt (line 1)) (7.1.1)\n",
      "Requirement already satisfied: six>=1.7 in /opt/conda/lib/python3.7/site-packages (from fiona>=1.8->geopandas>=0.9->osmnx>=1.1->-r ../requirements.txt (line 1)) (1.14.0)\n",
      "Requirement already satisfied: click-plugins>=1.0 in /opt/conda/lib/python3.7/site-packages (from fiona>=1.8->geopandas>=0.9->osmnx>=1.1->-r ../requirements.txt (line 1)) (1.1.1)\n",
      "Requirement already satisfied: attrs>=17 in /opt/conda/lib/python3.7/site-packages (from fiona>=1.8->geopandas>=0.9->osmnx>=1.1->-r ../requirements.txt (line 1)) (19.3.0)\n"
     ]
    }
   ],
   "source": [
    "\n"
   ]
  }
 ],
 "metadata": {
  "kernelspec": {
   "display_name": "Python 3",
   "language": "python",
   "name": "python3"
  },
  "language_info": {
   "codemirror_mode": {
    "name": "ipython",
    "version": 3
   },
   "file_extension": ".py",
   "mimetype": "text/x-python",
   "name": "python",
   "nbconvert_exporter": "python",
   "pygments_lexer": "ipython3",
   "version": "3.7.6"
  }
 },
 "nbformat": 4,
 "nbformat_minor": 4
}
