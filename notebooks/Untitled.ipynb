{
 "cells": [
  {
   "cell_type": "markdown",
   "id": "5b56e9b9-0b11-43ca-ae26-613b05abe810",
   "metadata": {},
   "source": [
    "# Process DEM data"
   ]
  },
  {
   "cell_type": "markdown",
   "id": "b76460a5-b691-4d5e-acd9-7c7918e3b995",
   "metadata": {},
   "source": [
    "We need to access DEM data for Wellington region.\n",
    "\n",
    "To do this we download the DEM data from the [Wellington region DEM 2013/14](https://data.linz.govt.nz/layer/53621-wellington-lidar-1m-dem-2013-2014/) for the area we are interested in. In this case have cropped and downloaded for Territorial Authorities = \"Porirua City\" and saved to folder `/spatial_data/linz_dem_2013_porirua` which is accessible by the project.\n"
   ]
  },
  {
   "cell_type": "code",
   "execution_count": 63,
   "id": "0751a509-6ead-4a43-a270-1ded982ba0c3",
   "metadata": {},
   "outputs": [
    {
     "name": "stdout",
     "output_type": "stream",
     "text": [
      "Obtaining file:///home/jovyan/work/osm/osmnx-catchments\n",
      "  Installing build dependencies ... \u001b[?25ldone\n",
      "\u001b[?25h  Getting requirements to build wheel ... \u001b[?25ldone\n",
      "\u001b[?25h    Preparing wheel metadata ... \u001b[?25ldone\n",
      "\u001b[?25hRequirement already satisfied: folium>=0.12.1 in /opt/conda/lib/python3.9/site-packages (from osmcatch==0.0.1) (0.12.1)\n",
      "Requirement already satisfied: osmnx>=1.1.1 in /opt/conda/lib/python3.9/site-packages (from osmcatch==0.0.1) (1.1.1)\n",
      "Requirement already satisfied: gdal>=3.2.0 in /opt/conda/lib/python3.9/site-packages (from osmcatch==0.0.1) (3.2.0)\n",
      "Requirement already satisfied: rasterio>=1.2.4 in /opt/conda/lib/python3.9/site-packages (from osmcatch==0.0.1) (1.2.4)\n",
      "Requirement already satisfied: shapely>=1.7.1 in /opt/conda/lib/python3.9/site-packages (from osmcatch==0.0.1) (1.7.1)\n",
      "Requirement already satisfied: scikit-learn>=0.22 in /opt/conda/lib/python3.9/site-packages (from osmcatch==0.0.1) (0.24.2)\n",
      "Requirement already satisfied: jinja2>=2.9 in /opt/conda/lib/python3.9/site-packages (from folium>=0.12.1->osmcatch==0.0.1) (3.0.1)\n",
      "Requirement already satisfied: branca>=0.3.0 in /opt/conda/lib/python3.9/site-packages (from folium>=0.12.1->osmcatch==0.0.1) (0.4.2)\n",
      "Requirement already satisfied: numpy in /opt/conda/lib/python3.9/site-packages (from folium>=0.12.1->osmcatch==0.0.1) (1.20.3)\n",
      "Requirement already satisfied: requests in /opt/conda/lib/python3.9/site-packages (from folium>=0.12.1->osmcatch==0.0.1) (2.25.1)\n",
      "Requirement already satisfied: MarkupSafe>=2.0 in /opt/conda/lib/python3.9/site-packages (from jinja2>=2.9->folium>=0.12.1->osmcatch==0.0.1) (2.0.1)\n",
      "Requirement already satisfied: matplotlib>=3.3 in /opt/conda/lib/python3.9/site-packages (from osmnx>=1.1.1->osmcatch==0.0.1) (3.4.2)\n",
      "Requirement already satisfied: pyproj>=2.6 in /opt/conda/lib/python3.9/site-packages (from osmnx>=1.1.1->osmcatch==0.0.1) (3.1.0)\n",
      "Requirement already satisfied: geopandas>=0.9 in /opt/conda/lib/python3.9/site-packages (from osmnx>=1.1.1->osmcatch==0.0.1) (0.9.0)\n",
      "Requirement already satisfied: Rtree>=0.9 in /opt/conda/lib/python3.9/site-packages (from osmnx>=1.1.1->osmcatch==0.0.1) (0.9.7)\n",
      "Requirement already satisfied: pandas>=1.1 in /opt/conda/lib/python3.9/site-packages (from osmnx>=1.1.1->osmcatch==0.0.1) (1.2.4)\n",
      "Requirement already satisfied: networkx>=2.5 in /opt/conda/lib/python3.9/site-packages (from osmnx>=1.1.1->osmcatch==0.0.1) (2.5.1)\n",
      "Requirement already satisfied: fiona>=1.8 in /opt/conda/lib/python3.9/site-packages (from geopandas>=0.9->osmnx>=1.1.1->osmcatch==0.0.1) (1.8.20)\n",
      "Requirement already satisfied: certifi in /opt/conda/lib/python3.9/site-packages (from fiona>=1.8->geopandas>=0.9->osmnx>=1.1.1->osmcatch==0.0.1) (2021.5.30)\n",
      "Requirement already satisfied: click-plugins>=1.0 in /opt/conda/lib/python3.9/site-packages (from fiona>=1.8->geopandas>=0.9->osmnx>=1.1.1->osmcatch==0.0.1) (1.1.1)\n",
      "Requirement already satisfied: six>=1.7 in /opt/conda/lib/python3.9/site-packages (from fiona>=1.8->geopandas>=0.9->osmnx>=1.1.1->osmcatch==0.0.1) (1.16.0)\n",
      "Requirement already satisfied: setuptools in /opt/conda/lib/python3.9/site-packages (from fiona>=1.8->geopandas>=0.9->osmnx>=1.1.1->osmcatch==0.0.1) (49.6.0.post20210108)\n",
      "Requirement already satisfied: click>=4.0 in /opt/conda/lib/python3.9/site-packages (from fiona>=1.8->geopandas>=0.9->osmnx>=1.1.1->osmcatch==0.0.1) (8.0.1)\n",
      "Requirement already satisfied: munch in /opt/conda/lib/python3.9/site-packages (from fiona>=1.8->geopandas>=0.9->osmnx>=1.1.1->osmcatch==0.0.1) (2.5.0)\n",
      "Requirement already satisfied: cligj>=0.5 in /opt/conda/lib/python3.9/site-packages (from fiona>=1.8->geopandas>=0.9->osmnx>=1.1.1->osmcatch==0.0.1) (0.7.2)\n",
      "Requirement already satisfied: attrs>=17 in /opt/conda/lib/python3.9/site-packages (from fiona>=1.8->geopandas>=0.9->osmnx>=1.1.1->osmcatch==0.0.1) (21.2.0)\n",
      "Requirement already satisfied: pillow>=6.2.0 in /opt/conda/lib/python3.9/site-packages (from matplotlib>=3.3->osmnx>=1.1.1->osmcatch==0.0.1) (8.2.0)\n",
      "Requirement already satisfied: python-dateutil>=2.7 in /opt/conda/lib/python3.9/site-packages (from matplotlib>=3.3->osmnx>=1.1.1->osmcatch==0.0.1) (2.8.1)\n",
      "Requirement already satisfied: cycler>=0.10 in /opt/conda/lib/python3.9/site-packages (from matplotlib>=3.3->osmnx>=1.1.1->osmcatch==0.0.1) (0.10.0)\n",
      "Requirement already satisfied: pyparsing>=2.2.1 in /opt/conda/lib/python3.9/site-packages (from matplotlib>=3.3->osmnx>=1.1.1->osmcatch==0.0.1) (2.4.7)\n",
      "Requirement already satisfied: kiwisolver>=1.0.1 in /opt/conda/lib/python3.9/site-packages (from matplotlib>=3.3->osmnx>=1.1.1->osmcatch==0.0.1) (1.3.1)\n",
      "Requirement already satisfied: decorator<5,>=4.3 in /opt/conda/lib/python3.9/site-packages (from networkx>=2.5->osmnx>=1.1.1->osmcatch==0.0.1) (4.4.2)\n",
      "Requirement already satisfied: pytz>=2017.3 in /opt/conda/lib/python3.9/site-packages (from pandas>=1.1->osmnx>=1.1.1->osmcatch==0.0.1) (2021.1)\n",
      "Requirement already satisfied: affine in /opt/conda/lib/python3.9/site-packages (from rasterio>=1.2.4->osmcatch==0.0.1) (2.3.0)\n",
      "Requirement already satisfied: snuggs>=1.4.1 in /opt/conda/lib/python3.9/site-packages (from rasterio>=1.2.4->osmcatch==0.0.1) (1.4.7)\n",
      "Requirement already satisfied: urllib3<1.27,>=1.21.1 in /opt/conda/lib/python3.9/site-packages (from requests->folium>=0.12.1->osmcatch==0.0.1) (1.26.5)\n",
      "Requirement already satisfied: idna<3,>=2.5 in /opt/conda/lib/python3.9/site-packages (from requests->folium>=0.12.1->osmcatch==0.0.1) (2.10)\n",
      "Requirement already satisfied: chardet<5,>=3.0.2 in /opt/conda/lib/python3.9/site-packages (from requests->folium>=0.12.1->osmcatch==0.0.1) (4.0.0)\n",
      "Requirement already satisfied: threadpoolctl>=2.0.0 in /opt/conda/lib/python3.9/site-packages (from scikit-learn>=0.22->osmcatch==0.0.1) (2.1.0)\n",
      "Requirement already satisfied: joblib>=0.11 in /opt/conda/lib/python3.9/site-packages (from scikit-learn>=0.22->osmcatch==0.0.1) (1.0.1)\n",
      "Requirement already satisfied: scipy>=0.19.1 in /opt/conda/lib/python3.9/site-packages (from scikit-learn>=0.22->osmcatch==0.0.1) (1.6.3)\n",
      "Installing collected packages: osmcatch\n",
      "  Attempting uninstall: osmcatch\n",
      "    Found existing installation: osmcatch 0.0.1\n",
      "    Uninstalling osmcatch-0.0.1:\n",
      "      Successfully uninstalled osmcatch-0.0.1\n",
      "  Running setup.py develop for osmcatch\n",
      "Successfully installed osmcatch-0.0.1\n"
     ]
    }
   ],
   "source": [
    "# Install support package and dependencies \n",
    "!pip install --upgrade -e ../.\n",
    "\n",
    "# Ensure access to packge for imports\n",
    "import sys\n",
    "sys.path.append('../')"
   ]
  },
  {
   "cell_type": "code",
   "execution_count": 2,
   "id": "03b62461-fde7-4bfa-9f0f-2f875dfb42f7",
   "metadata": {},
   "outputs": [
    {
     "data": {
      "text/plain": [
       "True"
      ]
     },
     "execution_count": 2,
     "metadata": {},
     "output_type": "execute_result"
    }
   ],
   "source": [
    "from pathlib import Path\n",
    "\n",
    "# Path to raster data \n",
    "dem_path = 'spatial_data/linz_dem_2013_porirua'\n",
    "p = Path.home().joinpath(Path(dem_path))\n"
   ]
  }
 ],
 "metadata": {
  "kernelspec": {
   "display_name": "Python 3",
   "language": "python",
   "name": "python3"
  },
  "language_info": {
   "codemirror_mode": {
    "name": "ipython",
    "version": 3
   },
   "file_extension": ".py",
   "mimetype": "text/x-python",
   "name": "python",
   "nbconvert_exporter": "python",
   "pygments_lexer": "ipython3",
   "version": "3.9.2"
  }
 },
 "nbformat": 4,
 "nbformat_minor": 5
}
