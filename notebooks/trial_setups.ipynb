{
 "cells": [
  {
   "cell_type": "code",
   "execution_count": 1,
   "metadata": {},
   "outputs": [
    {
     "name": "stdout",
     "output_type": "stream",
     "text": [
      "Obtaining file:///home/jovyan/Documents/Programming/osm/osmnx-catchments\n",
      "  Installing build dependencies ... \u001b[?25ldone\n",
      "\u001b[?25h  Getting requirements to build wheel ... \u001b[?25ldone\n",
      "\u001b[?25h    Preparing wheel metadata ... \u001b[?25ldone\n",
      "\u001b[?25hRequirement already satisfied, skipping upgrade: pytest>=6.2.4 in /opt/conda/lib/python3.7/site-packages (from osmcatch==0.0.1) (6.2.4)\n",
      "Requirement already satisfied, skipping upgrade: osmnx>=1.1.1 in /opt/conda/lib/python3.7/site-packages (from osmcatch==0.0.1) (1.1.1)\n",
      "Requirement already satisfied, skipping upgrade: attrs>=19.2.0 in /opt/conda/lib/python3.7/site-packages (from pytest>=6.2.4->osmcatch==0.0.1) (19.3.0)\n",
      "Requirement already satisfied, skipping upgrade: iniconfig in /opt/conda/lib/python3.7/site-packages (from pytest>=6.2.4->osmcatch==0.0.1) (1.1.1)\n",
      "Requirement already satisfied, skipping upgrade: py>=1.8.2 in /opt/conda/lib/python3.7/site-packages (from pytest>=6.2.4->osmcatch==0.0.1) (1.10.0)\n",
      "Requirement already satisfied, skipping upgrade: packaging in /opt/conda/lib/python3.7/site-packages (from pytest>=6.2.4->osmcatch==0.0.1) (20.1)\n",
      "Requirement already satisfied, skipping upgrade: toml in /opt/conda/lib/python3.7/site-packages (from pytest>=6.2.4->osmcatch==0.0.1) (0.10.2)\n",
      "Requirement already satisfied, skipping upgrade: pluggy<1.0.0a1,>=0.12 in /opt/conda/lib/python3.7/site-packages (from pytest>=6.2.4->osmcatch==0.0.1) (0.13.1)\n",
      "Requirement already satisfied, skipping upgrade: importlib-metadata>=0.12; python_version < \"3.8\" in /opt/conda/lib/python3.7/site-packages (from pytest>=6.2.4->osmcatch==0.0.1) (1.6.0)\n",
      "Requirement already satisfied, skipping upgrade: numpy>=1.19 in /opt/conda/lib/python3.7/site-packages (from osmnx>=1.1.1->osmcatch==0.0.1) (1.20.3)\n",
      "Requirement already satisfied, skipping upgrade: matplotlib>=3.3 in /opt/conda/lib/python3.7/site-packages (from osmnx>=1.1.1->osmcatch==0.0.1) (3.4.2)\n",
      "Requirement already satisfied, skipping upgrade: pyproj>=2.6 in /opt/conda/lib/python3.7/site-packages (from osmnx>=1.1.1->osmcatch==0.0.1) (3.1.0)\n",
      "Requirement already satisfied, skipping upgrade: pandas>=1.1 in /opt/conda/lib/python3.7/site-packages (from osmnx>=1.1.1->osmcatch==0.0.1) (1.2.4)\n",
      "Requirement already satisfied, skipping upgrade: requests>=2.25 in /opt/conda/lib/python3.7/site-packages (from osmnx>=1.1.1->osmcatch==0.0.1) (2.25.1)\n",
      "Requirement already satisfied, skipping upgrade: Shapely>=1.7 in /opt/conda/lib/python3.7/site-packages (from osmnx>=1.1.1->osmcatch==0.0.1) (1.7.1)\n",
      "Requirement already satisfied, skipping upgrade: Rtree>=0.9 in /opt/conda/lib/python3.7/site-packages (from osmnx>=1.1.1->osmcatch==0.0.1) (0.9.7)\n",
      "Requirement already satisfied, skipping upgrade: networkx>=2.5 in /opt/conda/lib/python3.7/site-packages (from osmnx>=1.1.1->osmcatch==0.0.1) (2.5.1)\n",
      "Requirement already satisfied, skipping upgrade: geopandas>=0.9 in /opt/conda/lib/python3.7/site-packages (from osmnx>=1.1.1->osmcatch==0.0.1) (0.9.0)\n",
      "Requirement already satisfied, skipping upgrade: six in /opt/conda/lib/python3.7/site-packages (from packaging->pytest>=6.2.4->osmcatch==0.0.1) (1.14.0)\n",
      "Requirement already satisfied, skipping upgrade: pyparsing>=2.0.2 in /opt/conda/lib/python3.7/site-packages (from packaging->pytest>=6.2.4->osmcatch==0.0.1) (2.4.7)\n",
      "Requirement already satisfied, skipping upgrade: zipp>=0.5 in /opt/conda/lib/python3.7/site-packages (from importlib-metadata>=0.12; python_version < \"3.8\"->pytest>=6.2.4->osmcatch==0.0.1) (3.1.0)\n",
      "Requirement already satisfied, skipping upgrade: kiwisolver>=1.0.1 in /opt/conda/lib/python3.7/site-packages (from matplotlib>=3.3->osmnx>=1.1.1->osmcatch==0.0.1) (1.2.0)\n",
      "Requirement already satisfied, skipping upgrade: pillow>=6.2.0 in /opt/conda/lib/python3.7/site-packages (from matplotlib>=3.3->osmnx>=1.1.1->osmcatch==0.0.1) (7.1.1)\n",
      "Requirement already satisfied, skipping upgrade: cycler>=0.10 in /opt/conda/lib/python3.7/site-packages (from matplotlib>=3.3->osmnx>=1.1.1->osmcatch==0.0.1) (0.10.0)\n",
      "Requirement already satisfied, skipping upgrade: python-dateutil>=2.7 in /opt/conda/lib/python3.7/site-packages (from matplotlib>=3.3->osmnx>=1.1.1->osmcatch==0.0.1) (2.8.1)\n",
      "Requirement already satisfied, skipping upgrade: certifi in /opt/conda/lib/python3.7/site-packages (from pyproj>=2.6->osmnx>=1.1.1->osmcatch==0.0.1) (2020.4.5.1)\n",
      "Requirement already satisfied, skipping upgrade: pytz>=2017.3 in /opt/conda/lib/python3.7/site-packages (from pandas>=1.1->osmnx>=1.1.1->osmcatch==0.0.1) (2019.3)\n",
      "Requirement already satisfied, skipping upgrade: urllib3<1.27,>=1.21.1 in /opt/conda/lib/python3.7/site-packages (from requests>=2.25->osmnx>=1.1.1->osmcatch==0.0.1) (1.25.9)\n",
      "Requirement already satisfied, skipping upgrade: idna<3,>=2.5 in /opt/conda/lib/python3.7/site-packages (from requests>=2.25->osmnx>=1.1.1->osmcatch==0.0.1) (2.9)\n",
      "Requirement already satisfied, skipping upgrade: chardet<5,>=3.0.2 in /opt/conda/lib/python3.7/site-packages (from requests>=2.25->osmnx>=1.1.1->osmcatch==0.0.1) (3.0.4)\n",
      "Requirement already satisfied, skipping upgrade: decorator<5,>=4.3 in /opt/conda/lib/python3.7/site-packages (from networkx>=2.5->osmnx>=1.1.1->osmcatch==0.0.1) (4.4.2)\n",
      "Requirement already satisfied, skipping upgrade: fiona>=1.8 in /opt/conda/lib/python3.7/site-packages (from geopandas>=0.9->osmnx>=1.1.1->osmcatch==0.0.1) (1.8.20)\n",
      "Requirement already satisfied, skipping upgrade: click>=4.0 in /opt/conda/lib/python3.7/site-packages (from fiona>=1.8->geopandas>=0.9->osmnx>=1.1.1->osmcatch==0.0.1) (7.1.1)\n",
      "Requirement already satisfied, skipping upgrade: munch in /opt/conda/lib/python3.7/site-packages (from fiona>=1.8->geopandas>=0.9->osmnx>=1.1.1->osmcatch==0.0.1) (2.5.0)\n",
      "Requirement already satisfied, skipping upgrade: cligj>=0.5 in /opt/conda/lib/python3.7/site-packages (from fiona>=1.8->geopandas>=0.9->osmnx>=1.1.1->osmcatch==0.0.1) (0.7.2)\n",
      "Requirement already satisfied, skipping upgrade: setuptools in /opt/conda/lib/python3.7/site-packages (from fiona>=1.8->geopandas>=0.9->osmnx>=1.1.1->osmcatch==0.0.1) (46.1.3.post20200325)\n",
      "Requirement already satisfied, skipping upgrade: click-plugins>=1.0 in /opt/conda/lib/python3.7/site-packages (from fiona>=1.8->geopandas>=0.9->osmnx>=1.1.1->osmcatch==0.0.1) (1.1.1)\n",
      "Installing collected packages: osmcatch\n",
      "  Attempting uninstall: osmcatch\n",
      "    Found existing installation: osmcatch 0.0.1\n",
      "    Uninstalling osmcatch-0.0.1:\n",
      "      Successfully uninstalled osmcatch-0.0.1\n",
      "  Running setup.py develop for osmcatch\n",
      "Successfully installed osmcatch\n"
     ]
    }
   ],
   "source": [
    "# Install support package and dependencies \n",
    "!pip install --upgrade -e ../.\n",
    "\n",
    "# Ensure access to packge for imports\n",
    "import sys\n",
    "sys.path.append('../')"
   ]
  },
  {
   "cell_type": "code",
   "execution_count": null,
   "metadata": {},
   "outputs": [],
   "source": []
  },
  {
   "cell_type": "code",
   "execution_count": 25,
   "metadata": {},
   "outputs": [],
   "source": [
    "from osmcatch import catchment\n",
    "\n",
    "import networkx as nx\n",
    "import geopandas as gpd\n",
    "\n",
    "\n",
    "#G, iso_bands_gpd = catchment.get_iso_bands((-41.137575, 174.843478))\n",
    "#G, iso_bands_gpd = catchment.get_iso_bands([(-41.137575, 174.843478),(-41.13757, 174.843274)])\n",
    "\n",
    "assert type(G) == nx.classes.multidigraph.MultiDiGraph\n",
    "assert len(iso_bands_gpd) == 2\n",
    "assert type(iso_bands_gpd) == gpd.geodataframe.GeoDataFrame\n",
    "assert type(iso_bands_gpd['geometry']) == gpd.geoseries.GeoSeries"
   ]
  },
  {
   "cell_type": "code",
   "execution_count": 8,
   "metadata": {},
   "outputs": [
    {
     "data": {
      "text/html": [
       "<div>\n",
       "<style scoped>\n",
       "    .dataframe tbody tr th:only-of-type {\n",
       "        vertical-align: middle;\n",
       "    }\n",
       "\n",
       "    .dataframe tbody tr th {\n",
       "        vertical-align: top;\n",
       "    }\n",
       "\n",
       "    .dataframe thead th {\n",
       "        text-align: right;\n",
       "    }\n",
       "</style>\n",
       "<table border=\"1\" class=\"dataframe\">\n",
       "  <thead>\n",
       "    <tr style=\"text-align: right;\">\n",
       "      <th></th>\n",
       "      <th>location_name</th>\n",
       "      <th>access_points</th>\n",
       "      <th>access_nodes</th>\n",
       "      <th>iso_band</th>\n",
       "      <th>geometry</th>\n",
       "    </tr>\n",
       "  </thead>\n",
       "  <tbody>\n",
       "    <tr>\n",
       "      <th>0</th>\n",
       "      <td></td>\n",
       "      <td>[(-41.137575, 174.843478), (-41.13757, 174.843...</td>\n",
       "      <td>[8706158979, 3680697040]</td>\n",
       "      <td>10</td>\n",
       "      <td>POLYGON ((174.84308 -41.14443, 174.84309 -41.1...</td>\n",
       "    </tr>\n",
       "    <tr>\n",
       "      <th>1</th>\n",
       "      <td></td>\n",
       "      <td>[(-41.137575, 174.843478), (-41.13757, 174.843...</td>\n",
       "      <td>[8706158979, 3680697040]</td>\n",
       "      <td>5</td>\n",
       "      <td>POLYGON ((174.84423 -41.14082, 174.84423 -41.1...</td>\n",
       "    </tr>\n",
       "  </tbody>\n",
       "</table>\n",
       "</div>"
      ],
      "text/plain": [
       "  location_name                                      access_points  \\\n",
       "0                [(-41.137575, 174.843478), (-41.13757, 174.843...   \n",
       "1                [(-41.137575, 174.843478), (-41.13757, 174.843...   \n",
       "\n",
       "               access_nodes  iso_band  \\\n",
       "0  [8706158979, 3680697040]        10   \n",
       "1  [8706158979, 3680697040]         5   \n",
       "\n",
       "                                            geometry  \n",
       "0  POLYGON ((174.84308 -41.14443, 174.84309 -41.1...  \n",
       "1  POLYGON ((174.84423 -41.14082, 174.84423 -41.1...  "
      ]
     },
     "execution_count": 8,
     "metadata": {},
     "output_type": "execute_result"
    }
   ],
   "source": [
    "iso_bands_gpd"
   ]
  },
  {
   "cell_type": "code",
   "execution_count": 1,
   "metadata": {},
   "outputs": [
    {
     "name": "stdout",
     "output_type": "stream",
     "text": [
      "\u001b[1m============================= test session starts ==============================\u001b[0m\n",
      "platform linux -- Python 3.7.6, pytest-6.2.4, py-1.10.0, pluggy-0.13.1\n",
      "rootdir: /home/jovyan/Documents/Programming/osm/osmnx-catchments, configfile: pytest.ini\n",
      "collected 0 items                                                              \u001b[0m\n",
      "\n",
      "\u001b[33m============================ \u001b[33mno tests ran\u001b[0m\u001b[33m in 0.37s\u001b[0m\u001b[33m =============================\u001b[0m\n"
     ]
    }
   ],
   "source": [
    "!pytest"
   ]
  }
 ],
 "metadata": {
  "kernelspec": {
   "display_name": "Python 3",
   "language": "python",
   "name": "python3"
  },
  "language_info": {
   "codemirror_mode": {
    "name": "ipython",
    "version": 3
   },
   "file_extension": ".py",
   "mimetype": "text/x-python",
   "name": "python",
   "nbconvert_exporter": "python",
   "pygments_lexer": "ipython3",
   "version": "3.7.6"
  }
 },
 "nbformat": 4,
 "nbformat_minor": 4
}
